{
 "cells": [
  {
   "cell_type": "markdown",
   "id": "3a49dbb4-84ab-4f9f-92cd-2a4ae035a302",
   "metadata": {},
   "source": [
    "# Digital Activity 0: Variables\n",
    "\n",
    "So far, we've looked programmatically at variables, but we haven't really done any _programming_. In this activity, we'll fill in that rather acute gap, and gain some more specific knowledge about variables.\n",
    "\n",
    "## Naming variables\n",
    "\n",
    "In our videos, we talked more about the general nature of variables, but not the particulars of the curious conventions and rules around them.\n",
    "\n",
    "Naming variables in Python has only a couple key rules and one set of exceptions:\n",
    "\n",
    "1. Variable names can only contain letters, numbers, and underscores.\n",
    "2. Variable names _cannot_ start with a number.\n",
    "\n",
    "|Legal names |Invalid names |\n",
    "|:-----------|:-------------|\n",
    "|`total`     |`#hashtag`    |\n",
    "|`num_of_cats`|`5alive`     |\n",
    "|`Claw5`     |`$dollars`    |\n",
    "|`m30wz`     |`number of dogs`|\n",
    "\n",
    "### Exceptions\n",
    "\n",
    "Python maintains a list of _reserved words_. These terms have special meaning to the language and can't used as variable identifiers (names):\n",
    "\n",
    "|Reserved Words|         |         |         |         |\n",
    "|:--------|:--------|:--------|:--------|:--------|\n",
    "|`and`     |`except`   |`lambda`   |`with`     |`as`       |\n",
    "|`finally`  |`nonlocal` |`while`    |`assert`   |`False`    |\n",
    "|`None`    |`yield`    |`break`    |`for`      |`not`     |\n",
    "|`class`    |`from`     |`or`       |`continue` |`global`   |\n",
    "|`pass`     |`def`     |`if`       |`raise`   |`del`      |\n",
    "|`import`   |`return`   |`elif`     |`in`      |`True`     |\n",
    "|`else`     |`is`       |`try`      |\n",
    "\n",
    "## Activity\n",
    "\n",
    "To test what we already know about variables _and_ to practice Python expressions, fill out the prompts below.\n",
    "\n",
    "### Description of the program\n",
    "\n",
    "These statements make up a program which has a unique magical property: no matter what you input at the user requested prompt, the result should be `8`! \n",
    "\n",
    "Finish the statements below to make this magical thing happen.\n",
    "\n",
    "## The process\n",
    "\n",
    "Here's how this phenomena works:\n",
    "\n",
    "1. Choose a number -- it can be any number\n",
    "2. Subtract `1` from it\n",
    "3. Multiply that answer by `3`\n",
    "4. Add `12` to the result of that\n",
    "5. Divide the number in step 4 by `3`\n",
    "6. Add `5` to the outcome of that\n",
    "7. Subtract the number you chose at the beginning from your running total\n",
    "8. You arrive at `8`\n",
    "\n",
    "We'll do this on paper first to learn a bit more about memory and variables.\n",
    "\n",
    "### 1. Using the `input` function, accept a number from input and store it as `response`.\n",
    "\n",
    "Here, think:\n",
    "\n",
    "> `response` \"gets\" the result of `input`\n",
    "\n",
    "Use a the prompt: \"Enter a number: \" to request the input. (This was implicitly demonstrated in the videos.)"
   ]
  },
  {
   "cell_type": "code",
   "execution_count": null,
   "id": "bcf92ba4-059f-4aba-abbf-04732ead8124",
   "metadata": {},
   "outputs": [],
   "source": [
    "# TODO"
   ]
  },
  {
   "cell_type": "markdown",
   "id": "564be189-325c-4cca-8620-9742bd204231",
   "metadata": {},
   "source": [
    "### 2. Convert `response` to an _integer_ number called `original_number`.\n",
    "\n",
    "More magic!\n",
    "\n",
    "In the videos we watched this week, we encountered a problem with the `input` function. We need to turn `response` into a number rather than a letter or symbol. How did we do that? Implement it here."
   ]
  },
  {
   "cell_type": "code",
   "execution_count": null,
   "id": "6d84cd2c-9e4e-43fe-84eb-dc281b53cf71",
   "metadata": {},
   "outputs": [],
   "source": [
    "# TODO"
   ]
  },
  {
   "cell_type": "markdown",
   "id": "43c539de-ff82-472b-bde6-d5306067bf3c",
   "metadata": {},
   "source": [
    "### 3. Subtract `1` from `original_number` and store it in a new variable called `working_number`.\n",
    "\n",
    "If we were to use `original_number` to store the outcome of our computations we would _lose that number permanently_. So, we need a separate number. This mimics the act of writing it down in the corner of our paper."
   ]
  },
  {
   "cell_type": "code",
   "execution_count": null,
   "id": "bb9af857-2b00-426f-86e1-b9d14df0920d",
   "metadata": {},
   "outputs": [],
   "source": [
    "# TODO"
   ]
  },
  {
   "cell_type": "markdown",
   "id": "4e68f85b-49d5-49cc-80d6-8451deae2649",
   "metadata": {},
   "source": [
    "### 4. Using the right operator, multiply `working_number` by `3`."
   ]
  },
  {
   "cell_type": "code",
   "execution_count": null,
   "id": "72c5aed7-a8ef-44d5-8b6e-7fa2b68166c6",
   "metadata": {},
   "outputs": [],
   "source": [
    "# TODO"
   ]
  },
  {
   "cell_type": "markdown",
   "id": "98820a4c-1c26-49e6-87c6-8e2cff7052aa",
   "metadata": {},
   "source": [
    "### 5. Add `12` to `working_number`"
   ]
  },
  {
   "cell_type": "code",
   "execution_count": null,
   "id": "3e8a874b-7a27-4543-a0b9-97a1f41cb503",
   "metadata": {},
   "outputs": [],
   "source": [
    "# TODO"
   ]
  },
  {
   "cell_type": "markdown",
   "id": "d5465927-41a6-462f-bfc0-99173fa1707e",
   "metadata": {},
   "source": [
    "### 6. Divide `working_number` by 3"
   ]
  },
  {
   "cell_type": "code",
   "execution_count": null,
   "id": "fe9446b3-d16b-462a-b714-868bb0ce49ff",
   "metadata": {},
   "outputs": [],
   "source": [
    "# TODO"
   ]
  },
  {
   "cell_type": "markdown",
   "id": "47e49b4b-95f8-418c-879a-eff792cc912d",
   "metadata": {},
   "source": [
    "### 7. Add `5` to `working_number`"
   ]
  },
  {
   "cell_type": "code",
   "execution_count": null,
   "id": "736e7a43-d4be-4369-b708-ac366e784548",
   "metadata": {},
   "outputs": [],
   "source": [
    "# TODO"
   ]
  },
  {
   "cell_type": "markdown",
   "id": "d20cde53-bb7e-4992-81f7-a86c21baf893",
   "metadata": {},
   "source": [
    "### 8. Subtract `original_number` _from_ `working_number`"
   ]
  },
  {
   "cell_type": "code",
   "execution_count": null,
   "id": "2abdc53d-5ab7-4e84-86d7-694a4eb80069",
   "metadata": {},
   "outputs": [],
   "source": [
    "# TODO"
   ]
  },
  {
   "cell_type": "markdown",
   "id": "7c71978a-d554-42fc-ae2f-bb87ba7b9b65",
   "metadata": {},
   "source": [
    "### 9. `print()` `working_number`"
   ]
  },
  {
   "cell_type": "code",
   "execution_count": null,
   "id": "01a9348b-8ed1-4075-ac2c-ea1bf2e3d9c3",
   "metadata": {},
   "outputs": [],
   "source": [
    "# TODO"
   ]
  },
  {
   "cell_type": "markdown",
   "id": "b52f5e8d-c6c2-40c2-b365-953662cf52e9",
   "metadata": {},
   "source": [
    "### Bonus\n",
    "\n",
    "Just as the videos pointed out, we don't exactly arrive at `3`. There's a bit of extra `float` (i.e. \"decimal\") information here. How could we coax `working_number` to an `integer`?"
   ]
  },
  {
   "cell_type": "code",
   "execution_count": null,
   "id": "912f070b-027b-4d03-b6c2-70fbe1dbccea",
   "metadata": {},
   "outputs": [],
   "source": [
    "# TODO"
   ]
  },
  {
   "cell_type": "markdown",
   "id": "12c3e355-eb7a-4eb9-a173-c517276c6416",
   "metadata": {},
   "source": [
    "## Finishing the activity"
   ]
  },
  {
   "cell_type": "markdown",
   "id": "bb1755bd-643e-4189-b860-3fdda55c4409",
   "metadata": {},
   "source": [
    "We're done! Except, now we're going to learn to write this file as an _actual_ program. \n",
    "\n",
    "Head on over to [digital-0-variables.py](digital-0-variables.py) to follow along."
   ]
  }
 ],
 "metadata": {
  "kernelspec": {
   "display_name": "Python 3",
   "language": "python",
   "name": "python3"
  },
  "language_info": {
   "codemirror_mode": {
    "name": "ipython",
    "version": 3
   },
   "file_extension": ".py",
   "mimetype": "text/x-python",
   "name": "python",
   "nbconvert_exporter": "python",
   "pygments_lexer": "ipython3",
   "version": "3.8.10"
  }
 },
 "nbformat": 4,
 "nbformat_minor": 5
}
